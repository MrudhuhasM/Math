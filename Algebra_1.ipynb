{
  "nbformat": 4,
  "nbformat_minor": 0,
  "metadata": {
    "colab": {
      "name": "Algebra_1.ipynb",
      "provenance": [],
      "toc_visible": true,
      "authorship_tag": "ABX9TyNLrUDoiLUoNVf3+8PzfhT+",
      "include_colab_link": true
    },
    "kernelspec": {
      "name": "python3",
      "display_name": "Python 3"
    }
  },
  "cells": [
    {
      "cell_type": "markdown",
      "metadata": {
        "id": "view-in-github",
        "colab_type": "text"
      },
      "source": [
        "<a href=\"https://colab.research.google.com/github/MrudhuhasM/Math/blob/master/Algebra_1.ipynb\" target=\"_parent\"><img src=\"https://colab.research.google.com/assets/colab-badge.svg\" alt=\"Open In Colab\"/></a>"
      ]
    },
    {
      "cell_type": "code",
      "metadata": {
        "id": "iGWEMJESOqBd",
        "colab_type": "code",
        "colab": {}
      },
      "source": [
        "import numpy as np\n",
        "import matplotlib.pyplot as plt\n",
        "from fractions import Fraction\n",
        "import math\n",
        "from random import randint"
      ],
      "execution_count": 0,
      "outputs": []
    },
    {
      "cell_type": "markdown",
      "metadata": {
        "id": "JwEaBK83OyED",
        "colab_type": "text"
      },
      "source": [
        "# Equation from 2 points"
      ]
    },
    {
      "cell_type": "code",
      "metadata": {
        "id": "HBzzRAlFRjTX",
        "colab_type": "code",
        "colab": {}
      },
      "source": [
        "def points_to_eq(p1,p2,slope):\n",
        "  m = (p2[1] - p1[1])/(p2[0] - p1[0])\n",
        "  point = p1\n",
        "  b = point[1] - (m*point[0])\n",
        "  m = Fraction(m).limit_denominator()\n",
        "  if b < 0:\n",
        "    print(f'Equation of line is y = {m}x {b}')\n",
        "  else:\n",
        "    print(f'Equation of line is y = {m}x +{b}')\n",
        "  print(\"\\n\")\n",
        "\n",
        "  #Plot\n",
        "  x_values = [p1[0],p2[0]]\n",
        "  y_values = [p1[1],p2[1]]\n",
        "\n",
        "  ab_x = np.abs(x_values)\n",
        "  ab_y = np.abs(y_values)\n",
        "\n",
        "  max_x = max(ab_x)\n",
        "  max_y = max(ab_y)\n",
        "\n",
        "  diffy = (max_y*2)+1\n",
        "  diffx = (max_x*2)+1\n",
        "\n",
        "  yint = np.linspace(-max_y,max_y,diffy,dtype='int')\n",
        "  xint = np.linspace(-max_x,max_x,diffx,dtype='int')\n",
        "\n",
        "\n",
        "  #Plot\n",
        "  fig = plt.figure(figsize=(10,10))\n",
        "  ax = fig.add_subplot(1, 1, 1)\n",
        "  ax.spines['left'].set_position('center')\n",
        "  ax.spines['bottom'].set_position('center')\n",
        "  ax.spines['right'].set_color('none')\n",
        "  ax.spines['top'].set_color('none')\n",
        "  ax.xaxis.set_ticks_position('bottom')\n",
        "  ax.yaxis.set_ticks_position('left')\n",
        "  ax.set_yticks(yint)\n",
        "  ax.set_xticks(xint)\n",
        "  plt.plot(x_values,y_values)\n",
        "  plt.axis([-max_x,max_x,-max_y,max_y],)\n",
        "  plt.annotate(str(p1),p1)\n",
        "  plt.annotate(str(p2),p2)\n",
        "  plt.plot()\n",
        "  plt.show()"
      ],
      "execution_count": 0,
      "outputs": []
    },
    {
      "cell_type": "code",
      "metadata": {
        "id": "5FFZyKwzTYYR",
        "colab_type": "code",
        "outputId": "108e3d67-3118-46e3-d7e7-8e53f8d4b0cf",
        "colab": {
          "base_uri": "https://localhost:8080/",
          "height": 636
        }
      },
      "source": [
        "#Get eq given two coordinates\n",
        "points_to_eq([2,1],[5,-8])"
      ],
      "execution_count": 0,
      "outputs": [
        {
          "output_type": "stream",
          "text": [
            "Equation of line is y = -3x +7.0\n",
            "\n",
            "\n"
          ],
          "name": "stdout"
        },
        {
          "output_type": "display_data",
          "data": {
            "image/png": "[encoded data removed]",
            "text/plain": [
              "<Figure size 720x720 with 1 Axes>"
            ]
          },
          "metadata": {
            "tags": [],
            "needs_background": "light"
          }
        }
      ]
    },
    {
      "cell_type": "code",
      "metadata": {
        "id": "bz4vCWKkwXMw",
        "colab_type": "code",
        "colab": {}
      },
      "source": [
        ""
      ],
      "execution_count": 0,
      "outputs": []
    },
    {
      "cell_type": "markdown",
      "metadata": {
        "id": "ByCIk-k16Jgh",
        "colab_type": "text"
      },
      "source": [
        "# Slope,Point to eq"
      ]
    },
    {
      "cell_type": "code",
      "metadata": {
        "id": "7fxHOmL_4cH0",
        "colab_type": "code",
        "colab": {}
      },
      "source": [
        "def point_to_eq(p1,slope):\n",
        "  m = slope\n",
        "  point = p1\n",
        "  b = point[1] - (m*point[0])\n",
        "  m_fr = Fraction(m).limit_denominator()\n",
        "  if b < 0:\n",
        "    print(f'Equation of line is y = {m_fr}x {b}')\n",
        "  else:\n",
        "    print(f'Equation of line is y = {m_fr}x +{b}')\n",
        "  print(\"\\n\")\n",
        "  x2 = 2\n",
        "  y2 = m*x + b\n",
        "  p2 = (x2,y2)\n",
        "\n",
        "  #Plot\n",
        "  x_values = [p1[0],p2[0]]\n",
        "  y_values = [p1[1],p2[1]]\n",
        "\n",
        "  ab_x = np.abs(x_values)\n",
        "  ab_y = np.abs(y_values)\n",
        "\n",
        "  max_x = max(ab_x)\n",
        "  max_y = max(ab_y)\n",
        "\n",
        "  diffy = (max_y*2)+1\n",
        "  diffx = (max_x*2)+1\n",
        "\n",
        "  yint = np.linspace(-max_y,max_y,diffy,dtype='int')\n",
        "  xint = np.linspace(-max_x,max_x,diffx,dtype='int')\n",
        "\n",
        "\n",
        "  #Plot\n",
        "  fig = plt.figure(figsize=(10,10))\n",
        "  ax = fig.add_subplot(1, 1, 1)\n",
        "  ax.spines['left'].set_position('center')\n",
        "  ax.spines['bottom'].set_position('center')\n",
        "  ax.spines['right'].set_color('none')\n",
        "  ax.spines['top'].set_color('none')\n",
        "  ax.xaxis.set_ticks_position('bottom')\n",
        "  ax.yaxis.set_ticks_position('left')\n",
        "  ax.set_yticks(yint)\n",
        "  ax.set_xticks(xint)\n",
        "  plt.plot(x_values,y_values)\n",
        "  plt.axis([-max_x,max_x,-max_y,max_y],)\n",
        "  plt.annotate(str(p1),p1)\n",
        "  plt.annotate(str(p2),p2)\n",
        "  plt.plot()\n",
        "  plt.show()"
      ],
      "execution_count": 0,
      "outputs": []
    },
    {
      "cell_type": "code",
      "metadata": {
        "id": "KUviYUqH41OD",
        "colab_type": "code",
        "colab": {
          "base_uri": "https://localhost:8080/",
          "height": 639
        },
        "outputId": "acd267a4-bffb-448a-e30a-c6f2e8cbe188"
      },
      "source": [
        "#point slope\n",
        "point_to_eq([0,6],3)"
      ],
      "execution_count": 231,
      "outputs": [
        {
          "output_type": "stream",
          "text": [
            "Equation of line is y = 3x +6\n",
            "\n",
            "\n"
          ],
          "name": "stdout"
        },
        {
          "output_type": "display_data",
          "data": {
            "image/png": "[encoded data removed]",
            "text/plain": [
              "<Figure size 720x720 with 1 Axes>"
            ]
          },
          "metadata": {
            "tags": [],
            "needs_background": "light"
          }
        }
      ]
    },
    {
      "cell_type": "code",
      "metadata": {
        "id": "NfcWeinp8fda",
        "colab_type": "code",
        "colab": {}
      },
      "source": [
        ""
      ],
      "execution_count": 0,
      "outputs": []
    },
    {
      "cell_type": "code",
      "metadata": {
        "id": "vAiBKoHm8fl1",
        "colab_type": "code",
        "colab": {}
      },
      "source": [
        ""
      ],
      "execution_count": 0,
      "outputs": []
    },
    {
      "cell_type": "code",
      "metadata": {
        "id": "g40at9nq8fpI",
        "colab_type": "code",
        "colab": {}
      },
      "source": [
        ""
      ],
      "execution_count": 0,
      "outputs": []
    },
    {
      "cell_type": "code",
      "metadata": {
        "id": "JlHa1bDA8frY",
        "colab_type": "code",
        "colab": {}
      },
      "source": [
        ""
      ],
      "execution_count": 0,
      "outputs": []
    },
    {
      "cell_type": "markdown",
      "metadata": {
        "id": "pkZK-0ST8gMZ",
        "colab_type": "text"
      },
      "source": [
        "# Equation for slope or co ordinates"
      ]
    },
    {
      "cell_type": "code",
      "metadata": {
        "id": "A_oAgpWt8fuC",
        "colab_type": "code",
        "colab": {}
      },
      "source": [
        "def to_equation(p1,p2=None,slope=None):\n",
        "  \"\"\"\n",
        "  p1 = coordinate point 1\n",
        "\n",
        "  p2 = coordinate point 2\n",
        "\n",
        "  slope = slope of line\n",
        "\n",
        "  When want to calculate eq from two point specify slope as none\n",
        "\n",
        "  When want to calculate eq from one point and slope specify point 2 as none\n",
        "  \"\"\"\n",
        "  if p2 and slope:\n",
        "    raise Exception(\"Pass either slope or co-od 2\")\n",
        "  try:\n",
        "    m = (p2[1] - p1[1])/(p2[0] - p1[0]) if not slope else slope\n",
        "  except:\n",
        "    m = 0\n",
        "  point = p1\n",
        "  b = point[1] - (m*point[0])\n",
        "  m_far = Fraction(m).limit_denominator()\n",
        "  b_far = Fraction(b).limit_denominator()\n",
        "  if b < 0:\n",
        "    print(f'Equation of line is y = {m_far}x {b_far}')\n",
        "  else:\n",
        "    print(f'Equation of line is y = {m_far}x +{b_far}')\n",
        "  print(\"\\n\")\n",
        "\n",
        "  x2 = randint(0,10)\n",
        "  y2 = m*x2 + b\n",
        "  p2 = (x2,y2) if not p2 else p2\n",
        "\n",
        "  #Plot\n",
        "  x_values = [p1[0],p2[0]]\n",
        "  y_values = [p1[1],p2[1]]\n",
        "\n",
        "  ab_x = np.abs(x_values)\n",
        "  ab_y = np.abs(y_values)\n",
        "\n",
        "  max_x = max(ab_x)\n",
        "  max_y = max(ab_y)\n",
        "\n",
        "  diffy = (max_y*2)+1\n",
        "  diffx = (max_x*2)+1\n",
        "\n",
        "  yint = np.linspace(-max_y,max_y,diffy,dtype='int')\n",
        "  xint = np.linspace(-max_x,max_x,diffx,dtype='int')\n",
        "\n",
        "\n",
        "  #Plot\n",
        "  fig = plt.figure(figsize=(10,10))\n",
        "  ax = fig.add_subplot(1, 1, 1)\n",
        "  ax.spines['left'].set_position('center')\n",
        "  ax.spines['bottom'].set_position('center')\n",
        "  ax.spines['right'].set_color('none')\n",
        "  ax.spines['top'].set_color('none')\n",
        "  ax.xaxis.set_ticks_position('bottom')\n",
        "  ax.yaxis.set_ticks_position('left')\n",
        "  ax.set_yticks(yint)\n",
        "  ax.set_xticks(xint)\n",
        "  plt.grid()\n",
        "  plt.plot(x_values,y_values,color='red',linewidth=5)\n",
        "  plt.axis([-max_x,max_x,-max_y,max_y],)\n",
        "  plt.annotate(str(p1),p1)\n",
        "  plt.annotate(str(p2),p2)\n",
        "  plt.plot()\n",
        "  plt.show()"
      ],
      "execution_count": 0,
      "outputs": []
    },
    {
      "cell_type": "code",
      "metadata": {
        "id": "XLx6jwO58sIY",
        "colab_type": "code",
        "colab": {
          "base_uri": "https://localhost:8080/",
          "height": 640
        },
        "outputId": "c7587e4c-99f0-4bd5-e324-599f5f361676"
      },
      "source": [
        "to_equation(p1=(2,5),p2=(5,11))"
      ],
      "execution_count": 296,
      "outputs": [
        {
          "output_type": "stream",
          "text": [
            "Equation of line is y = 2x +1\n",
            "\n",
            "\n"
          ],
          "name": "stdout"
        },
        {
          "output_type": "display_data",
          "data": {
            "image/png": "[encoded data removed]",
            "text/plain": [
              "<Figure size 720x720 with 1 Axes>"
            ]
          },
          "metadata": {
            "tags": [],
            "needs_background": "light"
          }
        }
      ]
    },
    {
      "cell_type": "code",
      "metadata": {
        "id": "-RoppbJsF2kq",
        "colab_type": "code",
        "colab": {}
      },
      "source": [
        ""
      ],
      "execution_count": 0,
      "outputs": []
    },
    {
      "cell_type": "markdown",
      "metadata": {
        "id": "iilpA69wnGxr",
        "colab_type": "text"
      },
      "source": [
        "# System of Equations"
      ]
    },
    {
      "cell_type": "code",
      "metadata": {
        "id": "38_CXAqQnIcW",
        "colab_type": "code",
        "colab": {}
      },
      "source": [
        "def sol_to_sys_eq(equation1,equation2):\n",
        "  \"\"\"\n",
        "  Pass the equations in standard form\n",
        "  Both x and y should have co-efficients\n",
        "\n",
        "  Equation should be in the form a x + b y = c\n",
        "  \"\"\"\n",
        "\n",
        "  equation1_sp = equation1.split(\"=\")\n",
        "  equation2_sp = equation2.split(\"=\")\n",
        "\n",
        "  eq1__m = [float(word) for word in equation1_sp[0].split() if word.isdigit()]\n",
        "  eq2__m = [float(word) for word in equation2_sp[0].split() if word.isdigit()]\n",
        "\n",
        "  eq1_m = eq1__m[0]\n",
        "  eq2_m = eq2__m[0]\n",
        "  eq1_y = eq1__m[1]\n",
        "  eq2_y = eq2__m[1]\n",
        "  eq1_b = float(equation1_sp[1])\n",
        "  eq2_b = float(equation2_sp[1])\n",
        "\n",
        "  e_1 = [eq1_m,eq1_y]\n",
        "  e_2 = [eq2_m,eq2_y]\n",
        "  b_s = [eq1_b,eq2_b]\n",
        "\n",
        "  A = np.matrix([[eq1_m,eq1_y],[eq2_m,eq2_y]])\n",
        "  B = np.matrix([[eq1_b],[eq2_b]])\n",
        "\n",
        "  solution = True\n",
        "\n",
        "  try:\n",
        "    A_inverse = np.linalg.inv(A)\n",
        "    point = A_inverse * B\n",
        "    print(f\"These equations intersect at point {(point.tolist())}\")\n",
        "  except:\n",
        "    solution = False\n",
        "    print(\"These system of equations either has infinite solutions or no solutions\")\n",
        "    point = np.array([[randint(0,10)],[randint(0,10)]])\n",
        "\n",
        "  \n",
        "\n",
        "\n",
        "  #Graph\n",
        "  rand_x_1 = randint(0,5)\n",
        "  rand_x_2 = round(float(point[0][0])+1) if round(float(point[0][0])) > 0 else round(float(point[0][0])-1)\n",
        "\n",
        "  eq1_y1 = ((eq1_b/eq1_y) + ((eq1_m*rand_x_1)/eq1_y)) if eq1_m <= 0 else ((eq1_b/eq1_y) - ((eq1_m*rand_x_1)/eq1_y))\n",
        "  eq1_y2 = ((eq1_b/eq1_y) + ((eq1_m*rand_x_2)/eq1_y)) if eq1_m <= 0 else ((eq1_b/eq1_y) - ((eq1_m*rand_x_2)/eq1_y))\n",
        "  eq2_y1 = ((eq2_b/eq2_y) + ((eq2_m*rand_x_1)/eq2_y)) if eq1_m <= 0 else ((eq2_b/eq2_y) - ((eq2_m*rand_x_1)/eq2_y))\n",
        "  eq2_y2 = ((eq2_b/eq2_y) + ((eq2_m*rand_x_2)/eq2_y)) if eq1_m <= 0 else ((eq2_b/eq2_y) - ((eq2_m*rand_x_2)/eq2_y))\n",
        "\n",
        "  eq1_x_values = [rand_x_1,rand_x_2]\n",
        "  eq1_y_values = [eq1_y1,eq1_y2]\n",
        "\n",
        "  eq1_point_1 = (rand_x_1,eq1_y1)\n",
        "  eq1_point_2 = (rand_x_2,eq1_y2)\n",
        "\n",
        "  eq2_point_1 = (rand_x_1,eq2_y1)\n",
        "  eq2_point_2 = (rand_x_2,eq2_y2)\n",
        "\n",
        "  eq2_x_values = [rand_x_1,rand_x_2]\n",
        "  eq2_y_values = [eq2_y1,eq2_y2]\n",
        "\n",
        "  ab_x_1 = np.abs(eq1_x_values)\n",
        "  ab_y_1 = np.abs(eq1_y_values)\n",
        "\n",
        "  ab_x_2 = np.abs(eq2_x_values)\n",
        "  ab_y_2 = np.abs(eq2_y_values)\n",
        "\n",
        "  max_x = int(max(ab_x_1)) if max(ab_x_1) > max(ab_x_2) else int(max(ab_x_2))\n",
        "  max_y = int(max(ab_y_1)) if max(ab_y_1) > max(ab_y_2) else int(max(ab_y_2))\n",
        "\n",
        "  max_x = max_x + 2\n",
        "  max_y = max_y + 2\n",
        "\n",
        "  diffy = ((max_y*2)+1) if ((max_y*2)+1) < 40 else int(((max_y*2)+1)/10)\n",
        "  diffx = ((max_x*2)+1) if ((max_x*2)+1) < 40 else int(((max_x*2)+1)/10)\n",
        "\n",
        "  yint = np.linspace(-max_y,max_y,diffy,dtype='int')\n",
        "  xint = np.linspace(-max_x,max_x,diffx,dtype='int')\n",
        "\n",
        "  #Plot\n",
        "  fig = plt.figure(figsize=(10,10))\n",
        "  ax = fig.add_subplot(1, 1, 1)\n",
        "  ax.spines['left'].set_position('center')\n",
        "  ax.spines['bottom'].set_position('center')\n",
        "  ax.spines['right'].set_color('none')\n",
        "  ax.spines['top'].set_color('none')\n",
        "  ax.xaxis.set_ticks_position('bottom')\n",
        "  ax.yaxis.set_ticks_position('left')\n",
        "  ax.set_yticks(yint)\n",
        "  ax.set_xticks(xint)\n",
        "  plt.grid()\n",
        "  plt.plot(eq1_x_values,eq1_y_values,color='red',label=equation1)\n",
        "  plt.plot(eq2_x_values,eq2_y_values,color='blue',label=equation2)\n",
        "  plt.axis([-max_x,max_x,-max_y,max_y],)\n",
        "  point = (round(float(point[0][0]),2),round(float(point[1][0]),2))\n",
        "  if solution : plt.annotate(f\"These equations intersect at {(point)}\",point)\n",
        "  plt.legend()\n",
        "  plt.plot()\n",
        "  plt.show()\n",
        "\n",
        "  # print(eq1_m,eq1_b)"
      ],
      "execution_count": 0,
      "outputs": []
    },
    {
      "cell_type": "code",
      "metadata": {
        "id": "c68uXdAkoqzU",
        "colab_type": "code",
        "colab": {
          "base_uri": "https://localhost:8080/",
          "height": 601
        },
        "outputId": "ac67389b-0815-4f14-c908-5eb9538a4a8e"
      },
      "source": [
        "sol_to_sys_eq(\"6 x+ 1 y= 8\",\"3 x+ 1 y= -4\")"
      ],
      "execution_count": 67,
      "outputs": [
        {
          "output_type": "stream",
          "text": [
            "These equations intersect at point [[4.0], [-16.0]]\n"
          ],
          "name": "stdout"
        },
        {
          "output_type": "display_data",
          "data": {
            "image/png": "[encoded data removed]",
            "text/plain": [
              "<Figure size 720x720 with 1 Axes>"
            ]
          },
          "metadata": {
            "tags": [],
            "needs_background": "light"
          }
        }
      ]
    },
    {
      "cell_type": "code",
      "metadata": {
        "id": "ewTimOfu7H4q",
        "colab_type": "code",
        "colab": {}
      },
      "source": [
        ""
      ],
      "execution_count": 0,
      "outputs": []
    }
  ]
}